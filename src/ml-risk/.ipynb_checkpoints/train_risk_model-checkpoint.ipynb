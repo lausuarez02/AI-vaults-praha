{
 "cells": [
  {
   "cell_type": "code",
   "execution_count": null,
   "metadata": {
    "vscode": {
     "languageId": "plaintext"
    }
   },
   "outputs": [],
   "source": [
    "import requests\n",
    "import pandas as pd\n",
    "\n",
    "BLOCKSCOUT_BASE = \"https://blockscout.berachain.dev/api\"\n",
    "BERA_CONTRACT = \"0xYourVaultOrCDPContract\"\n",
    "\n",
    "def get_contract_txns(address):\n",
    "    url = f\"{BLOCKSCOUT_BASE}?module=account&action=txlist&address={address}\"\n",
    "    r = requests.get(url)\n",
    "    return pd.DataFrame(r.json()[\"result\"])\n",
    "\n",
    "txns = get_contract_txns(BERA_CONTRACT)\n",
    "\n"
   ]
  }
 ],
 "metadata": {
  "language_info": {
   "name": "python"
  }
 },
 "nbformat": 4,
 "nbformat_minor": 2
}
