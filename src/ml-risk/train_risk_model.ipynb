{
 "cells": [
  {
   "cell_type": "markdown",
   "metadata": {},
   "source": [
    "# 📒 train_risk_model.ipynb (Notebook Template - Beraborrow Risk Model w/ Blockscout)\n",
    "\n",
    "\n",
    "## 📌 Objective\n",
    "Train a risk classification model (0 = safe, 1 = risky) for Beraborrow vaults using on-chain activity data from Blockscout.\n",
    "\n",
    "## 📦 Setup\n",
    "!pip install pandas requests scikit-learn joblib\n",
    "\n",
    "\n"
   ]
  },
  {
   "cell_type": "code",
   "execution_count": null,
   "metadata": {},
   "outputs": [],
   "source": [
    "\n",
    "## 🔧 Configuration\n",
    "\n",
    "import requests\n",
    "import pandas as pd\n",
    "import joblib\n",
    "from sklearn.ensemble import RandomForestClassifier\n",
    "from sklearn.model_selection import train_test_split\n",
    "\n",
    "BLOCKSCOUT_API = \"https://blockscout.berachain.dev/api\"\n",
    "BERA_CONTRACT = \"0x2A63e2b30e5169486C1c1b4356e1Ec87Be1628bD\"  # LSP contract as example\n",
    "\n"
   ]
  },
  {
   "cell_type": "code",
   "execution_count": null,
   "metadata": {},
   "outputs": [],
   "source": [
    "\n",
    "## 📊 Fetch Transaction Data\n",
    "def fetch_txns(contract):\n",
    "    url = f\"{BLOCKSCOUT_API}?module=account&action=txlist&address={contract}&sort=asc\"\n",
    "    r = requests.get(url)\n",
    "    return pd.DataFrame(r.json()[\"result\"])\n",
    "\n",
    "transactions = fetch_txns(BERA_CONTRACT)\n",
    "transactions['timeStamp'] = pd.to_datetime(transactions['timeStamp'], unit='s')\n",
    "transactions['value_eth'] = transactions['value'].astype(float) / 1e18\n"
   ]
  },
  {
   "cell_type": "code",
   "execution_count": null,
   "metadata": {},
   "outputs": [],
   "source": [
    "## 📊 Fetch Internal Transactions\n",
    "\n",
    "def fetch_internal_txns(contract):\n",
    "    url = f\"{BLOCKSCOUT_API}?module=account&action=txlistinternal&address={contract}\"\n",
    "    r = requests.get(url)\n",
    "    return pd.DataFrame(r.json()[\"result\"])\n",
    "\n",
    "internal_txns = fetch_internal_txns(BERA_CONTRACT)\n"
   ]
  },
  {
   "cell_type": "code",
   "execution_count": null,
   "metadata": {},
   "outputs": [],
   "source": [
    "## 🧠 Feature Engineering\n",
    "\n",
    "features = {\n",
    "    \"total_txns\": len(transactions),\n",
    "    \"unique_users\": transactions['from'].nunique(),\n",
    "    \"avg_value\": transactions['value_eth'].mean(),\n",
    "    \"last_activity_days\": (pd.Timestamp.now() - transactions['timeStamp'].max()).days,\n",
    "    \"internal_txn_count\": len(internal_txns),\n",
    "    \"internal_gas_used_avg\": internal_txns['gasUsed'].astype(float).mean() if len(internal_txns) > 0 else 0.0,\n",
    "}\n"
   ]
  },
  {
   "cell_type": "code",
   "execution_count": null,
   "metadata": {},
   "outputs": [],
   "source": [
    "## 🏷️ Labeling (Manual or Rule-Based for MVP)\n",
    "\n",
    "features[\"label\"] = 1 if features[\"last_activity_days\"] > 14 else 0  # Example logic\n"
   ]
  },
  {
   "cell_type": "code",
   "execution_count": null,
   "metadata": {},
   "outputs": [],
   "source": [
    "## 🧪 Build Dataset\n",
    "\n",
    "df = pd.DataFrame([features])  # Append for multiple vaults if available\n",
    "\n"
   ]
  }
 ],
 "metadata": {
  "kernelspec": {
   "display_name": "Python 3 (ipykernel)",
   "language": "python",
   "name": "python3"
  },
  "language_info": {
   "codemirror_mode": {
    "name": "ipython",
    "version": 3
   },
   "file_extension": ".py",
   "mimetype": "text/x-python",
   "name": "python",
   "nbconvert_exporter": "python",
   "pygments_lexer": "ipython3",
   "version": "3.12.8"
  }
 },
 "nbformat": 4,
 "nbformat_minor": 4
}
